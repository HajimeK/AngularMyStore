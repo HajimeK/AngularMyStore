{
 "cells": [
  {
   "cell_type": "markdown",
   "metadata": {
    "editable": true
   },
   "source": [
    "## Workspace Instructions\n",
    "\n",
    "The Angular CLI has been installed and is ready to use! Follow these quick steps to get your application up and running:\n",
    "\n",
    "1. To initialize the Workspace, click the `SET UP WORKSPACE` button.\n",
    "2. To serve an Angular application: After scaffolding a new Angular application, `cd` into its root directory, then click the `START ANGULAR` button.\n",
    "3. To open an Angular application in a browser window, click on `OPEN APP`.\n",
    "\n",
    "## Starter Code\n",
    "\n",
    "The Angular CLI allows you to quickly scaffold a new application, as well as generate all necessary components, services, and modules. While you'll use the CLI to create a new application from scratch, we've provided some code and data to help you along the way:\n",
    "\n",
    "* **CSS**. The provided stylesheets are not required, but you may use the included CSS classes to help you style the application. Feel free to use your creativity and build a UI as you see fit!\n",
    "* `data.json`. You may fetch the list of products for your store from the API created in the previous course of this Nanodegree program. In lieu of using that data, you may also choose to have your application read the provided `data.json` file to populate your store.\n",
    "If you choose to use the starter code, just merge the included `src` folder into the `src` folder of a newly-scaffolded application.\n",
    "\n",
    "## Project features\n",
    "\n",
    "Your application reflects the same user experience as that of a real-world e-commerce website, including a(n):\n",
    "\n",
    "* **Product list** page, which displays the available products for the user to choose and add to their cart (in various quantities)\n",
    "* **Product details** page, which displays more information about any particular product\n",
    "* **Shopping cart**, which includes the products that the user has added to their cart\n",
    "* **Checkout form**, which collects information about the user (e.g., name, address, payment details, etc.)\n",
    "* **Order confirmation page**, which shows the outcome after the user completes the checkout process (i.e., submits the checkout form)\n",
    "\n",
    "## Development strategy\n",
    "\n",
    "Feel free to use this overview and the [project rubric](https://review.udacity.com/#!/rubrics/3005/view) specifications to create this project. You are always welcome to design and implement your own workflow, but if you are stuck or could use some inspiration, we've included the following walkthrough the help you get up and running.\n",
    "\n",
    "* **Scaffold your project** using the Angular CLI, and install any dependencies.\n",
    "* **Generate the product list component**. Having the product list as the \"main\" page is a great start for your users.\n",
    "* **Begin building the component logic and template** What is the function of the product list? What logic is included in the TypeScript component, and how does its HTML template function? Does this component collect any user input? If so, how does information entered by the user relate to properties in the TypeScript component?\n",
    "* **Consider the hierarchy of components**. Which other components do you anticipate you'll need to build in this application? Which component(s) should render other components? Which components should represent a parent-child relationship? Feel free to draw out this hierarchy as a chart to help you visualize the relationships between components.\n",
    "* **Create the TypeScript model** for products in the app. Any available product should be of this type, rather than an ordinary object.\n",
    "* **Generate the service(s)**. Which service(s) make the most sense? For any particular service, what is its function? Hint: You may want to create a service to handle any asynchronous data.\n",
    "* **Fetch data** from the API (or included `data.json` file) and render products in your product list.\n",
    "* **Generate and create other components**. How do these components interact, if at all, with the component you first created? How can we facilitate sharing information between them?\n",
    "* **Create routing** between components. Which components are linked by the router? How is the app routing module set up and configured to make sure the page doesn't reload during navigation?\n",
    "* **Ensure that inputs are validated** in the client. For example, your checkout form needs to collect information from the user in order for them to complete the checkout process. How do you ensure that you are collecting accurate information from the user?"
   ]
  },
  {
   "cell_type": "markdown",
   "metadata": {
    "editable": true,
    "ulab": {
     "buttons": {
      "ulab-button-b45c859f": {
       "bashCommand": "source setup_node.sh",
       "filesToOpen": [],
       "isPreviewButton": false,
       "runInBackground": false,
       "style": "primary",
       "text": "SET UP WORKSPACE",
       "toggleOffText": "HIDE SOLUTION",
       "toggleOnText": "SHOW SOLUTION"
      }
     }
    }
   },
   "source": [
    "<button id=\"ulab-button-b45c859f\" class=\"ulab-btn--primary\"></button>"
   ]
  },
  {
   "cell_type": "markdown",
   "metadata": {
    "editable": true,
    "ulab": {
     "buttons": {
      "ulab-button-29be98dd": {
       "bashCommand": "ng serve --port 3000 --host 0.0.0.0 --disableHostCheck true",
       "filesToOpen": [],
       "isPreviewButton": false,
       "runInBackground": false,
       "style": "primary",
       "text": "START ANGULAR",
       "toggleOffText": "HIDE SOLUTION",
       "toggleOnText": "SHOW SOLUTION"
      },
      "ulab-button-34c8e873": {
       "bashCommand": "",
       "filesToOpen": [],
       "isPreviewButton": true,
       "runInBackground": false,
       "style": "primary",
       "text": "OPEN APP",
       "toggleOffText": "HIDE SOLUTION",
       "toggleOnText": "SHOW SOLUTION"
      }
     }
    }
   },
   "source": [
    "<button id=\"ulab-button-29be98dd\" class=\"ulab-btn--primary\"></button>"
   ]
  },
  {
   "cell_type": "markdown",
   "metadata": {
    "editable": true,
    "ulab": {
     "buttons": {
      "ulab-button-b3f3478d": {
       "bashCommand": "",
       "filesToOpen": [],
       "isPreviewButton": true,
       "runInBackground": false,
       "style": "primary",
       "text": "OPEN APP",
       "toggleOffText": "HIDE SOLUTION",
       "toggleOnText": "SHOW SOLUTION"
      }
     }
    }
   },
   "source": [
    "<button id=\"ulab-button-b3f3478d\" class=\"ulab-btn--primary\"></button>"
   ]
  }
 ],
 "metadata": {
  "kernelspec": {
   "display_name": "Python 3",
   "language": "python",
   "name": "python3"
  },
  "language_info": {
   "codemirror_mode": {
    "name": "ipython",
    "version": 3
   },
   "file_extension": ".py",
   "mimetype": "text/x-python",
   "name": "python",
   "nbconvert_exporter": "python",
   "pygments_lexer": "ipython3",
   "version": "3.6.3"
  },
  "ulab_nb_type": "guided"
 },
 "nbformat": 4,
 "nbformat_minor": 4
}
